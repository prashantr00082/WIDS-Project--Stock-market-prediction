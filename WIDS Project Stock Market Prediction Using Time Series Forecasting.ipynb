{
 "cells": [
  {
   "cell_type": "code",
   "execution_count": 1,
   "id": "20753c63",
   "metadata": {
    "scrolled": true
   },
   "outputs": [
    {
     "name": "stdout",
     "output_type": "stream",
     "text": [
      "Requirement already satisfied: pmdarima in c:\\users\\prash\\anaconda3\\lib\\site-packages (2.0.2)\n",
      "Requirement already satisfied: scipy>=1.3.2 in c:\\users\\prash\\anaconda3\\lib\\site-packages (from pmdarima) (1.9.1)\n",
      "Requirement already satisfied: joblib>=0.11 in c:\\users\\prash\\anaconda3\\lib\\site-packages (from pmdarima) (1.1.0)\n",
      "Requirement already satisfied: setuptools!=50.0.0,>=38.6.0 in c:\\users\\prash\\anaconda3\\lib\\site-packages (from pmdarima) (63.4.1)\n",
      "Requirement already satisfied: statsmodels>=0.13.2 in c:\\users\\prash\\anaconda3\\lib\\site-packages (from pmdarima) (0.13.2)\n",
      "Requirement already satisfied: pandas>=0.19 in c:\\users\\prash\\anaconda3\\lib\\site-packages (from pmdarima) (1.4.4)\n",
      "Requirement already satisfied: Cython!=0.29.18,!=0.29.31,>=0.29 in c:\\users\\prash\\anaconda3\\lib\\site-packages (from pmdarima) (0.29.32)\n",
      "Requirement already satisfied: urllib3 in c:\\users\\prash\\anaconda3\\lib\\site-packages (from pmdarima) (1.26.11)\n",
      "Requirement already satisfied: numpy>=1.21.2 in c:\\users\\prash\\anaconda3\\lib\\site-packages (from pmdarima) (1.21.5)\n",
      "Requirement already satisfied: scikit-learn>=0.22 in c:\\users\\prash\\anaconda3\\lib\\site-packages (from pmdarima) (1.0.2)\n",
      "Requirement already satisfied: pytz>=2020.1 in c:\\users\\prash\\anaconda3\\lib\\site-packages (from pandas>=0.19->pmdarima) (2022.1)\n",
      "Requirement already satisfied: python-dateutil>=2.8.1 in c:\\users\\prash\\anaconda3\\lib\\site-packages (from pandas>=0.19->pmdarima) (2.8.2)\n",
      "Requirement already satisfied: threadpoolctl>=2.0.0 in c:\\users\\prash\\anaconda3\\lib\\site-packages (from scikit-learn>=0.22->pmdarima) (2.2.0)\n",
      "Requirement already satisfied: patsy>=0.5.2 in c:\\users\\prash\\anaconda3\\lib\\site-packages (from statsmodels>=0.13.2->pmdarima) (0.5.2)\n",
      "Requirement already satisfied: packaging>=21.3 in c:\\users\\prash\\anaconda3\\lib\\site-packages (from statsmodels>=0.13.2->pmdarima) (21.3)\n",
      "Requirement already satisfied: pyparsing!=3.0.5,>=2.0.2 in c:\\users\\prash\\anaconda3\\lib\\site-packages (from packaging>=21.3->statsmodels>=0.13.2->pmdarima) (3.0.9)\n",
      "Requirement already satisfied: six in c:\\users\\prash\\anaconda3\\lib\\site-packages (from patsy>=0.5.2->statsmodels>=0.13.2->pmdarima) (1.16.0)\n",
      "Note: you may need to restart the kernel to use updated packages.\n"
     ]
    }
   ],
   "source": [
    "pip install pmdarima"
   ]
  },
  {
   "cell_type": "code",
   "execution_count": 59,
   "id": "140b3612",
   "metadata": {},
   "outputs": [],
   "source": [
    "import numpy as np \n",
    "import pandas as pd \n",
    "import matplotlib.pyplot as plt\n",
    "from pandas.plotting import lag_plot\n",
    "from pandas import datetime\n",
    "from statsmodels.tsa.arima_model import ARIMA\n",
    "from sklearn.metrics import mean_squared_error"
   ]
  },
  {
   "cell_type": "code",
   "execution_count": 6,
   "id": "15d877a2",
   "metadata": {},
   "outputs": [
    {
     "data": {
      "text/plain": [
       "'C:\\\\Users\\\\PRASH\\\\Downloads'"
      ]
     },
     "execution_count": 6,
     "metadata": {},
     "output_type": "execute_result"
    }
   ],
   "source": [
    "pwd"
   ]
  },
  {
   "cell_type": "code",
   "execution_count": 28,
   "id": "5bdc1aec",
   "metadata": {},
   "outputs": [
    {
     "name": "stdout",
     "output_type": "stream",
     "text": [
      "Shape of data (249, 6)\n"
     ]
    },
    {
     "data": {
      "text/html": [
       "<div>\n",
       "<style scoped>\n",
       "    .dataframe tbody tr th:only-of-type {\n",
       "        vertical-align: middle;\n",
       "    }\n",
       "\n",
       "    .dataframe tbody tr th {\n",
       "        vertical-align: top;\n",
       "    }\n",
       "\n",
       "    .dataframe thead th {\n",
       "        text-align: right;\n",
       "    }\n",
       "</style>\n",
       "<table border=\"1\" class=\"dataframe\">\n",
       "  <thead>\n",
       "    <tr style=\"text-align: right;\">\n",
       "      <th></th>\n",
       "      <th>Open</th>\n",
       "      <th>High</th>\n",
       "      <th>Low</th>\n",
       "      <th>Close</th>\n",
       "      <th>Adj Close</th>\n",
       "      <th>Volume</th>\n",
       "    </tr>\n",
       "    <tr>\n",
       "      <th>Date</th>\n",
       "      <th></th>\n",
       "      <th></th>\n",
       "      <th></th>\n",
       "      <th></th>\n",
       "      <th></th>\n",
       "      <th></th>\n",
       "    </tr>\n",
       "  </thead>\n",
       "  <tbody>\n",
       "    <tr>\n",
       "      <th>2022-01-11</th>\n",
       "      <td>503.000000</td>\n",
       "      <td>507.899994</td>\n",
       "      <td>498.149994</td>\n",
       "      <td>501.299988</td>\n",
       "      <td>499.742432</td>\n",
       "      <td>16269193</td>\n",
       "    </tr>\n",
       "    <tr>\n",
       "      <th>2022-01-12</th>\n",
       "      <td>505.850006</td>\n",
       "      <td>511.850006</td>\n",
       "      <td>503.500000</td>\n",
       "      <td>507.250000</td>\n",
       "      <td>505.673981</td>\n",
       "      <td>16255334</td>\n",
       "    </tr>\n",
       "    <tr>\n",
       "      <th>2022-01-13</th>\n",
       "      <td>504.000000</td>\n",
       "      <td>513.799988</td>\n",
       "      <td>494.799988</td>\n",
       "      <td>511.950012</td>\n",
       "      <td>510.359375</td>\n",
       "      <td>27572553</td>\n",
       "    </tr>\n",
       "    <tr>\n",
       "      <th>2022-01-14</th>\n",
       "      <td>509.000000</td>\n",
       "      <td>515.400024</td>\n",
       "      <td>505.649994</td>\n",
       "      <td>509.899994</td>\n",
       "      <td>508.315735</td>\n",
       "      <td>12655602</td>\n",
       "    </tr>\n",
       "    <tr>\n",
       "      <th>2022-01-17</th>\n",
       "      <td>514.799988</td>\n",
       "      <td>526.900024</td>\n",
       "      <td>512.000000</td>\n",
       "      <td>525.000000</td>\n",
       "      <td>523.368835</td>\n",
       "      <td>27942414</td>\n",
       "    </tr>\n",
       "    <tr>\n",
       "      <th>...</th>\n",
       "      <td>...</td>\n",
       "      <td>...</td>\n",
       "      <td>...</td>\n",
       "      <td>...</td>\n",
       "      <td>...</td>\n",
       "      <td>...</td>\n",
       "    </tr>\n",
       "    <tr>\n",
       "      <th>2023-01-04</th>\n",
       "      <td>394.799988</td>\n",
       "      <td>394.799988</td>\n",
       "      <td>385.000000</td>\n",
       "      <td>385.600006</td>\n",
       "      <td>384.401947</td>\n",
       "      <td>16121049</td>\n",
       "    </tr>\n",
       "    <tr>\n",
       "      <th>2023-01-05</th>\n",
       "      <td>387.899994</td>\n",
       "      <td>388.750000</td>\n",
       "      <td>382.500000</td>\n",
       "      <td>386.899994</td>\n",
       "      <td>385.697906</td>\n",
       "      <td>10443908</td>\n",
       "    </tr>\n",
       "    <tr>\n",
       "      <th>2023-01-06</th>\n",
       "      <td>386.100006</td>\n",
       "      <td>388.399994</td>\n",
       "      <td>381.000000</td>\n",
       "      <td>382.000000</td>\n",
       "      <td>380.813110</td>\n",
       "      <td>8715469</td>\n",
       "    </tr>\n",
       "    <tr>\n",
       "      <th>2023-01-09</th>\n",
       "      <td>386.350006</td>\n",
       "      <td>392.700012</td>\n",
       "      <td>385.000000</td>\n",
       "      <td>389.450012</td>\n",
       "      <td>388.239990</td>\n",
       "      <td>14693099</td>\n",
       "    </tr>\n",
       "    <tr>\n",
       "      <th>2023-01-10</th>\n",
       "      <td>400.000000</td>\n",
       "      <td>417.750000</td>\n",
       "      <td>400.000000</td>\n",
       "      <td>412.899994</td>\n",
       "      <td>411.617096</td>\n",
       "      <td>54021379</td>\n",
       "    </tr>\n",
       "  </tbody>\n",
       "</table>\n",
       "<p>249 rows × 6 columns</p>\n",
       "</div>"
      ],
      "text/plain": [
       "                  Open        High         Low       Close   Adj Close  \\\n",
       "Date                                                                     \n",
       "2022-01-11  503.000000  507.899994  498.149994  501.299988  499.742432   \n",
       "2022-01-12  505.850006  511.850006  503.500000  507.250000  505.673981   \n",
       "2022-01-13  504.000000  513.799988  494.799988  511.950012  510.359375   \n",
       "2022-01-14  509.000000  515.400024  505.649994  509.899994  508.315735   \n",
       "2022-01-17  514.799988  526.900024  512.000000  525.000000  523.368835   \n",
       "...                ...         ...         ...         ...         ...   \n",
       "2023-01-04  394.799988  394.799988  385.000000  385.600006  384.401947   \n",
       "2023-01-05  387.899994  388.750000  382.500000  386.899994  385.697906   \n",
       "2023-01-06  386.100006  388.399994  381.000000  382.000000  380.813110   \n",
       "2023-01-09  386.350006  392.700012  385.000000  389.450012  388.239990   \n",
       "2023-01-10  400.000000  417.750000  400.000000  412.899994  411.617096   \n",
       "\n",
       "              Volume  \n",
       "Date                  \n",
       "2022-01-11  16269193  \n",
       "2022-01-12  16255334  \n",
       "2022-01-13  27572553  \n",
       "2022-01-14  12655602  \n",
       "2022-01-17  27942414  \n",
       "...              ...  \n",
       "2023-01-04  16121049  \n",
       "2023-01-05  10443908  \n",
       "2023-01-06   8715469  \n",
       "2023-01-09  14693099  \n",
       "2023-01-10  54021379  \n",
       "\n",
       "[249 rows x 6 columns]"
      ]
     },
     "execution_count": 28,
     "metadata": {},
     "output_type": "execute_result"
    }
   ],
   "source": [
    "import pandas as pd\n",
    "df=pd.read_csv('TATAMOTORS.csv',index_col='Date'   ,parse_dates=True)\n",
    "df=df.dropna()\n",
    "print('Shape of data',df.shape)\n",
    "df.head()\n",
    "df"
   ]
  },
  {
   "cell_type": "code",
   "execution_count": 26,
   "id": "07aeb6c3",
   "metadata": {},
   "outputs": [
    {
     "data": {
      "text/plain": [
       "<AxesSubplot:xlabel='Date'>"
      ]
     },
     "execution_count": 26,
     "metadata": {},
     "output_type": "execute_result"
    },
    {
     "data": {
      "image/png": "[encoded data removed]",
      "text/plain": [
       "<Figure size 1200x500 with 1 Axes>"
      ]
     },
     "metadata": {},
     "output_type": "display_data"
    }
   ],
   "source": [
    "df['Close'].plot(figsize=(12,5))"
   ]
  },
  {
   "cell_type": "code",
   "execution_count": 12,
   "id": "cb53f94d",
   "metadata": {},
   "outputs": [
    {
     "name": "stdout",
     "output_type": "stream",
     "text": [
      "Requirement already satisfied: statsmodels in c:\\users\\prash\\anaconda3\\lib\\site-packages (0.13.2)\n",
      "Requirement already satisfied: numpy>=1.17 in c:\\users\\prash\\anaconda3\\lib\\site-packages (from statsmodels) (1.21.5)\n",
      "Requirement already satisfied: scipy>=1.3 in c:\\users\\prash\\anaconda3\\lib\\site-packages (from statsmodels) (1.9.1)\n",
      "Requirement already satisfied: pandas>=0.25 in c:\\users\\prash\\anaconda3\\lib\\site-packages (from statsmodels) (1.4.4)\n",
      "Requirement already satisfied: patsy>=0.5.2 in c:\\users\\prash\\anaconda3\\lib\\site-packages (from statsmodels) (0.5.2)\n",
      "Requirement already satisfied: packaging>=21.3 in c:\\users\\prash\\anaconda3\\lib\\site-packages (from statsmodels) (21.3)\n",
      "Requirement already satisfied: pyparsing!=3.0.5,>=2.0.2 in c:\\users\\prash\\anaconda3\\lib\\site-packages (from packaging>=21.3->statsmodels) (3.0.9)\n",
      "Requirement already satisfied: python-dateutil>=2.8.1 in c:\\users\\prash\\anaconda3\\lib\\site-packages (from pandas>=0.25->statsmodels) (2.8.2)\n",
      "Requirement already satisfied: pytz>=2020.1 in c:\\users\\prash\\anaconda3\\lib\\site-packages (from pandas>=0.25->statsmodels) (2022.1)\n",
      "Requirement already satisfied: six in c:\\users\\prash\\anaconda3\\lib\\site-packages (from patsy>=0.5.2->statsmodels) (1.16.0)\n",
      "Note: you may need to restart the kernel to use updated packages.\n"
     ]
    }
   ],
   "source": [
    "pip install statsmodels"
   ]
  },
  {
   "cell_type": "code",
   "execution_count": 13,
   "id": "914f2ff0",
   "metadata": {},
   "outputs": [],
   "source": [
    "from statsmodels.tsa.stattools import adfuller"
   ]
  },
  {
   "cell_type": "code",
   "execution_count": 54,
   "id": "8d9c3241",
   "metadata": {},
   "outputs": [
    {
     "name": "stdout",
     "output_type": "stream",
     "text": [
      "1. ADF :  -2.596710153298023\n",
      "2. P-Value :  0.09367911999092732\n",
      "3. Num Of Lags :  0\n",
      "4. Num Of Observations Used For ADF Regression: 248\n",
      "5. Critical Values :\n",
      "\t 1% :  -3.4569962781990573\n",
      "\t 5% :  -2.8732659015936024\n",
      "\t 10% :  -2.573018897632674\n"
     ]
    }
   ],
   "source": [
    "def ad_test(dataset):\n",
    "     dftest = adfuller(dataset, autolag = 'AIC')\n",
    "     print(\"1. ADF : \",dftest[0])\n",
    "     print(\"2. P-Value : \", dftest[1])\n",
    "     print(\"3. Num Of Lags : \", dftest[2])\n",
    "     print(\"4. Num Of Observations Used For ADF Regression:\",      dftest[3])\n",
    "     print(\"5. Critical Values :\")\n",
    "     for key, val in dftest[4].items():\n",
    "         print(\"\\t\",key, \": \", val)\n",
    "ad_test(df['Open'])"
   ]
  },
  {
   "cell_type": "code",
   "execution_count": 55,
   "id": "5d450088",
   "metadata": {},
   "outputs": [
    {
     "name": "stdout",
     "output_type": "stream",
     "text": [
      "Performing stepwise search to minimize aic\n",
      " ARIMA(2,1,2)(0,0,0)[0] intercept   : AIC=1819.476, Time=0.49 sec\n",
      " ARIMA(0,1,0)(0,0,0)[0] intercept   : AIC=1822.535, Time=0.03 sec\n",
      " ARIMA(1,1,0)(0,0,0)[0] intercept   : AIC=1824.464, Time=0.05 sec\n",
      " ARIMA(0,1,1)(0,0,0)[0] intercept   : AIC=1824.453, Time=0.08 sec\n",
      " ARIMA(0,1,0)(0,0,0)[0]             : AIC=1821.012, Time=0.01 sec\n",
      " ARIMA(1,1,2)(0,0,0)[0] intercept   : AIC=1825.024, Time=0.16 sec\n",
      " ARIMA(2,1,1)(0,0,0)[0] intercept   : AIC=1824.548, Time=0.14 sec\n",
      " ARIMA(3,1,2)(0,0,0)[0] intercept   : AIC=1814.026, Time=0.26 sec\n",
      " ARIMA(3,1,1)(0,0,0)[0] intercept   : AIC=1822.044, Time=0.13 sec\n",
      " ARIMA(4,1,2)(0,0,0)[0] intercept   : AIC=1814.492, Time=0.59 sec\n",
      " ARIMA(3,1,3)(0,0,0)[0] intercept   : AIC=1813.937, Time=0.55 sec\n",
      " ARIMA(2,1,3)(0,0,0)[0] intercept   : AIC=1813.129, Time=0.46 sec\n",
      " ARIMA(1,1,3)(0,0,0)[0] intercept   : AIC=1823.190, Time=0.15 sec\n",
      " ARIMA(2,1,4)(0,0,0)[0] intercept   : AIC=1813.979, Time=0.44 sec\n",
      " ARIMA(1,1,4)(0,0,0)[0] intercept   : AIC=1824.583, Time=0.36 sec\n",
      " ARIMA(3,1,4)(0,0,0)[0] intercept   : AIC=1816.928, Time=0.80 sec\n",
      " ARIMA(2,1,3)(0,0,0)[0]             : AIC=1811.764, Time=0.34 sec\n",
      " ARIMA(1,1,3)(0,0,0)[0]             : AIC=1822.056, Time=0.16 sec\n",
      " ARIMA(2,1,2)(0,0,0)[0]             : AIC=1817.973, Time=0.37 sec\n",
      " ARIMA(3,1,3)(0,0,0)[0]             : AIC=1813.113, Time=0.53 sec\n",
      " ARIMA(2,1,4)(0,0,0)[0]             : AIC=1812.729, Time=0.44 sec\n",
      " ARIMA(1,1,2)(0,0,0)[0]             : AIC=1823.853, Time=0.08 sec\n",
      " ARIMA(1,1,4)(0,0,0)[0]             : AIC=1823.240, Time=0.20 sec\n",
      " ARIMA(3,1,2)(0,0,0)[0]             : AIC=1812.577, Time=0.28 sec\n",
      " ARIMA(3,1,4)(0,0,0)[0]             : AIC=1815.616, Time=0.59 sec\n",
      "\n",
      "Best model:  ARIMA(2,1,3)(0,0,0)[0]          \n",
      "Total fit time: 7.686 seconds\n"
     ]
    },
    {
     "data": {
      "text/html": [
       "<table class=\"simpletable\">\n",
       "<caption>SARIMAX Results</caption>\n",
       "<tr>\n",
       "  <th>Dep. Variable:</th>           <td>y</td>        <th>  No. Observations:  </th>    <td>249</td>  \n",
       "</tr>\n",
       "<tr>\n",
       "  <th>Model:</th>           <td>SARIMAX(2, 1, 3)</td> <th>  Log Likelihood     </th> <td>-899.882</td>\n",
       "</tr>\n",
       "<tr>\n",
       "  <th>Date:</th>            <td>Sun, 11 Feb 2024</td> <th>  AIC                </th> <td>1811.764</td>\n",
       "</tr>\n",
       "<tr>\n",
       "  <th>Time:</th>                <td>11:50:14</td>     <th>  BIC                </th> <td>1832.845</td>\n",
       "</tr>\n",
       "<tr>\n",
       "  <th>Sample:</th>                  <td>0</td>        <th>  HQIC               </th> <td>1820.250</td>\n",
       "</tr>\n",
       "<tr>\n",
       "  <th></th>                      <td> - 249</td>      <th>                     </th>     <td> </td>   \n",
       "</tr>\n",
       "<tr>\n",
       "  <th>Covariance Type:</th>        <td>opg</td>       <th>                     </th>     <td> </td>   \n",
       "</tr>\n",
       "</table>\n",
       "<table class=\"simpletable\">\n",
       "<tr>\n",
       "     <td></td>       <th>coef</th>     <th>std err</th>      <th>z</th>      <th>P>|z|</th>  <th>[0.025</th>    <th>0.975]</th>  \n",
       "</tr>\n",
       "<tr>\n",
       "  <th>ar.L1</th>  <td>    0.0919</td> <td>    0.056</td> <td>    1.629</td> <td> 0.103</td> <td>   -0.019</td> <td>    0.203</td>\n",
       "</tr>\n",
       "<tr>\n",
       "  <th>ar.L2</th>  <td>   -0.8727</td> <td>    0.048</td> <td>  -18.067</td> <td> 0.000</td> <td>   -0.967</td> <td>   -0.778</td>\n",
       "</tr>\n",
       "<tr>\n",
       "  <th>ma.L1</th>  <td>   -0.1269</td> <td>    0.076</td> <td>   -1.660</td> <td> 0.097</td> <td>   -0.277</td> <td>    0.023</td>\n",
       "</tr>\n",
       "<tr>\n",
       "  <th>ma.L2</th>  <td>    0.9241</td> <td>    0.040</td> <td>   22.960</td> <td> 0.000</td> <td>    0.845</td> <td>    1.003</td>\n",
       "</tr>\n",
       "<tr>\n",
       "  <th>ma.L3</th>  <td>   -0.1695</td> <td>    0.065</td> <td>   -2.614</td> <td> 0.009</td> <td>   -0.297</td> <td>   -0.042</td>\n",
       "</tr>\n",
       "<tr>\n",
       "  <th>sigma2</th> <td>   82.6587</td> <td>    6.112</td> <td>   13.524</td> <td> 0.000</td> <td>   70.680</td> <td>   94.638</td>\n",
       "</tr>\n",
       "</table>\n",
       "<table class=\"simpletable\">\n",
       "<tr>\n",
       "  <th>Ljung-Box (L1) (Q):</th>     <td>0.01</td> <th>  Jarque-Bera (JB):  </th> <td>14.14</td>\n",
       "</tr>\n",
       "<tr>\n",
       "  <th>Prob(Q):</th>                <td>0.91</td> <th>  Prob(JB):          </th> <td>0.00</td> \n",
       "</tr>\n",
       "<tr>\n",
       "  <th>Heteroskedasticity (H):</th> <td>0.44</td> <th>  Skew:              </th> <td>-0.07</td>\n",
       "</tr>\n",
       "<tr>\n",
       "  <th>Prob(H) (two-sided):</th>    <td>0.00</td> <th>  Kurtosis:          </th> <td>4.16</td> \n",
       "</tr>\n",
       "</table><br/><br/>Warnings:<br/>[1] Covariance matrix calculated using the outer product of gradients (complex-step)."
      ],
      "text/plain": [
       "<class 'statsmodels.iolib.summary.Summary'>\n",
       "\"\"\"\n",
       "                               SARIMAX Results                                \n",
       "==============================================================================\n",
       "Dep. Variable:                      y   No. Observations:                  249\n",
       "Model:               SARIMAX(2, 1, 3)   Log Likelihood                -899.882\n",
       "Date:                Sun, 11 Feb 2024   AIC                           1811.764\n",
       "Time:                        11:50:14   BIC                           1832.845\n",
       "Sample:                             0   HQIC                          1820.250\n",
       "                                - 249                                         \n",
       "Covariance Type:                  opg                                         \n",
       "==============================================================================\n",
       "                 coef    std err          z      P>|z|      [0.025      0.975]\n",
       "------------------------------------------------------------------------------\n",
       "ar.L1          0.0919      0.056      1.629      0.103      -0.019       0.203\n",
       "ar.L2         -0.8727      0.048    -18.067      0.000      -0.967      -0.778\n",
       "ma.L1         -0.1269      0.076     -1.660      0.097      -0.277       0.023\n",
       "ma.L2          0.9241      0.040     22.960      0.000       0.845       1.003\n",
       "ma.L3         -0.1695      0.065     -2.614      0.009      -0.297      -0.042\n",
       "sigma2        82.6587      6.112     13.524      0.000      70.680      94.638\n",
       "===================================================================================\n",
       "Ljung-Box (L1) (Q):                   0.01   Jarque-Bera (JB):                14.14\n",
       "Prob(Q):                              0.91   Prob(JB):                         0.00\n",
       "Heteroskedasticity (H):               0.44   Skew:                            -0.07\n",
       "Prob(H) (two-sided):                  0.00   Kurtosis:                         4.16\n",
       "===================================================================================\n",
       "\n",
       "Warnings:\n",
       "[1] Covariance matrix calculated using the outer product of gradients (complex-step).\n",
       "\"\"\""
      ]
     },
     "execution_count": 55,
     "metadata": {},
     "output_type": "execute_result"
    }
   ],
   "source": [
    "from pmdarima import auto_arima\n",
    "import warnings\n",
    "warnings.filterwarnings(\"ignore\")\n",
    "stepwise_fit = auto_arima(df['Open'], trace=True,\n",
    "suppress_warnings=True)\n",
    "stepwise_fit.summary()"
   ]
  },
  {
   "cell_type": "code",
   "execution_count": 79,
   "id": "e84e9c4f",
   "metadata": {},
   "outputs": [
    {
     "name": "stdout",
     "output_type": "stream",
     "text": [
      "(249, 6)\n",
      "(219, 6) (30, 6)\n"
     ]
    },
    {
     "data": {
      "text/html": [
       "<table class=\"simpletable\">\n",
       "<caption>SARIMAX Results</caption>\n",
       "<tr>\n",
       "  <th>Dep. Variable:</th>         <td>Open</td>       <th>  No. Observations:  </th>    <td>219</td>  \n",
       "</tr>\n",
       "<tr>\n",
       "  <th>Model:</th>            <td>ARIMA(2, 1, 3)</td>  <th>  Log Likelihood     </th> <td>-798.498</td>\n",
       "</tr>\n",
       "<tr>\n",
       "  <th>Date:</th>            <td>Sun, 11 Feb 2024</td> <th>  AIC                </th> <td>1608.996</td>\n",
       "</tr>\n",
       "<tr>\n",
       "  <th>Time:</th>                <td>12:48:11</td>     <th>  BIC                </th> <td>1629.303</td>\n",
       "</tr>\n",
       "<tr>\n",
       "  <th>Sample:</th>                  <td>0</td>        <th>  HQIC               </th> <td>1617.198</td>\n",
       "</tr>\n",
       "<tr>\n",
       "  <th></th>                      <td> - 219</td>      <th>                     </th>     <td> </td>   \n",
       "</tr>\n",
       "<tr>\n",
       "  <th>Covariance Type:</th>        <td>opg</td>       <th>                     </th>     <td> </td>   \n",
       "</tr>\n",
       "</table>\n",
       "<table class=\"simpletable\">\n",
       "<tr>\n",
       "     <td></td>       <th>coef</th>     <th>std err</th>      <th>z</th>      <th>P>|z|</th>  <th>[0.025</th>    <th>0.975]</th>  \n",
       "</tr>\n",
       "<tr>\n",
       "  <th>ar.L1</th>  <td>    0.0906</td> <td>    0.057</td> <td>    1.588</td> <td> 0.112</td> <td>   -0.021</td> <td>    0.202</td>\n",
       "</tr>\n",
       "<tr>\n",
       "  <th>ar.L2</th>  <td>   -0.8705</td> <td>    0.050</td> <td>  -17.519</td> <td> 0.000</td> <td>   -0.968</td> <td>   -0.773</td>\n",
       "</tr>\n",
       "<tr>\n",
       "  <th>ma.L1</th>  <td>   -0.1414</td> <td>    0.080</td> <td>   -1.758</td> <td> 0.079</td> <td>   -0.299</td> <td>    0.016</td>\n",
       "</tr>\n",
       "<tr>\n",
       "  <th>ma.L2</th>  <td>    0.9310</td> <td>    0.038</td> <td>   24.532</td> <td> 0.000</td> <td>    0.857</td> <td>    1.005</td>\n",
       "</tr>\n",
       "<tr>\n",
       "  <th>ma.L3</th>  <td>   -0.1892</td> <td>    0.071</td> <td>   -2.649</td> <td> 0.008</td> <td>   -0.329</td> <td>   -0.049</td>\n",
       "</tr>\n",
       "<tr>\n",
       "  <th>sigma2</th> <td>   88.3869</td> <td>    7.078</td> <td>   12.488</td> <td> 0.000</td> <td>   74.515</td> <td>  102.259</td>\n",
       "</tr>\n",
       "</table>\n",
       "<table class=\"simpletable\">\n",
       "<tr>\n",
       "  <th>Ljung-Box (L1) (Q):</th>     <td>0.02</td> <th>  Jarque-Bera (JB):  </th> <td>10.41</td>\n",
       "</tr>\n",
       "<tr>\n",
       "  <th>Prob(Q):</th>                <td>0.88</td> <th>  Prob(JB):          </th> <td>0.01</td> \n",
       "</tr>\n",
       "<tr>\n",
       "  <th>Heteroskedasticity (H):</th> <td>0.56</td> <th>  Skew:              </th> <td>-0.08</td>\n",
       "</tr>\n",
       "<tr>\n",
       "  <th>Prob(H) (two-sided):</th>    <td>0.01</td> <th>  Kurtosis:          </th> <td>4.06</td> \n",
       "</tr>\n",
       "</table><br/><br/>Warnings:<br/>[1] Covariance matrix calculated using the outer product of gradients (complex-step)."
      ],
      "text/plain": [
       "<class 'statsmodels.iolib.summary.Summary'>\n",
       "\"\"\"\n",
       "                               SARIMAX Results                                \n",
       "==============================================================================\n",
       "Dep. Variable:                   Open   No. Observations:                  219\n",
       "Model:                 ARIMA(2, 1, 3)   Log Likelihood                -798.498\n",
       "Date:                Sun, 11 Feb 2024   AIC                           1608.996\n",
       "Time:                        12:48:11   BIC                           1629.303\n",
       "Sample:                             0   HQIC                          1617.198\n",
       "                                - 219                                         \n",
       "Covariance Type:                  opg                                         \n",
       "==============================================================================\n",
       "                 coef    std err          z      P>|z|      [0.025      0.975]\n",
       "------------------------------------------------------------------------------\n",
       "ar.L1          0.0906      0.057      1.588      0.112      -0.021       0.202\n",
       "ar.L2         -0.8705      0.050    -17.519      0.000      -0.968      -0.773\n",
       "ma.L1         -0.1414      0.080     -1.758      0.079      -0.299       0.016\n",
       "ma.L2          0.9310      0.038     24.532      0.000       0.857       1.005\n",
       "ma.L3         -0.1892      0.071     -2.649      0.008      -0.329      -0.049\n",
       "sigma2        88.3869      7.078     12.488      0.000      74.515     102.259\n",
       "===================================================================================\n",
       "Ljung-Box (L1) (Q):                   0.02   Jarque-Bera (JB):                10.41\n",
       "Prob(Q):                              0.88   Prob(JB):                         0.01\n",
       "Heteroskedasticity (H):               0.56   Skew:                            -0.08\n",
       "Prob(H) (two-sided):                  0.01   Kurtosis:                         4.06\n",
       "===================================================================================\n",
       "\n",
       "Warnings:\n",
       "[1] Covariance matrix calculated using the outer product of gradients (complex-step).\n",
       "\"\"\""
      ]
     },
     "execution_count": 79,
     "metadata": {},
     "output_type": "execute_result"
    }
   ],
   "source": [
    "from statsmodels.tsa.arima.model import ARIMA\n",
    "print(df.shape)\n",
    "train=df.iloc[:-30]\n",
    "test=df.iloc[-30:]\n",
    "print(train.shape,test.shape)\n",
    "model=ARIMA(train['Open'],order=(2,1,3))\n",
    "model=model.fit()\n",
    "model.summary()"
   ]
  },
  {
   "cell_type": "code",
   "execution_count": 80,
   "id": "1ec4395d",
   "metadata": {},
   "outputs": [
    {
     "name": "stdout",
     "output_type": "stream",
     "text": [
      "Date\n",
      "2022-11-30    430.219651\n",
      "2022-12-01    431.583511\n",
      "2022-12-02    433.555343\n",
      "2022-12-05    432.546844\n",
      "2022-12-06    430.739058\n",
      "2022-12-07    431.453096\n",
      "2022-12-08    433.091404\n",
      "2022-12-09    432.618324\n",
      "2022-12-12    431.149375\n",
      "2022-12-13    431.428058\n",
      "2022-12-14    432.731970\n",
      "2022-12-15    432.607547\n",
      "2022-12-16    431.461271\n",
      "2022-12-19    431.465703\n",
      "2022-12-20    432.463890\n",
      "2022-12-21    432.550486\n",
      "2022-12-22    431.689453\n",
      "2022-12-23    431.536049\n",
      "2022-12-26    432.271642\n",
      "2022-12-27    432.471831\n",
      "2022-12-28    431.849669\n",
      "2022-12-29    431.619033\n",
      "2022-12-30    432.139700\n",
      "2023-01-02    432.387640\n",
      "2023-01-03    431.956890\n",
      "2023-01-04    431.702034\n",
      "2023-01-05    432.053890\n",
      "2023-01-06    432.307616\n",
      "2023-01-09    432.024332\n",
      "2023-01-10    431.777804\n",
      "Name: predicted_mean, dtype: float64\n"
     ]
    }
   ],
   "source": [
    "start=len(train)\n",
    "end=len(train)+len(test)-1\n",
    "pred=model.predict(start=start,end=end,typ='levels')\n",
    "pred.index = df.index[start:end+1]\n",
    "print(pred)"
   ]
  },
  {
   "cell_type": "code",
   "execution_count": 81,
   "id": "fb146092",
   "metadata": {},
   "outputs": [
    {
     "data": {
      "text/plain": [
       "<AxesSubplot:xlabel='Date'>"
      ]
     },
     "execution_count": 81,
     "metadata": {},
     "output_type": "execute_result"
    },
    {
     "data": {
      "image/png": "[encoded data removed]",
      "text/plain": [
       "<Figure size 640x480 with 1 Axes>"
      ]
     },
     "metadata": {},
     "output_type": "display_data"
    }
   ],
   "source": [
    "pred.plot(legend=True)\n",
    "test['Open'].plot(legend=True)"
   ]
  },
  {
   "cell_type": "code",
   "execution_count": 82,
   "id": "7fcc1691",
   "metadata": {},
   "outputs": [
    {
     "name": "stdout",
     "output_type": "stream",
     "text": [
      "29.228488838035467\n"
     ]
    }
   ],
   "source": [
    "from sklearn.metrics import mean_squared_error\n",
    "from math import sqrt\n",
    "test['Open'].mean()\n",
    "rmse=sqrt(mean_squared_error(pred,test['Open']))\n",
    "print(rmse)"
   ]
  },
  {
   "cell_type": "code",
   "execution_count": 83,
   "id": "ad001fc1",
   "metadata": {},
   "outputs": [
    {
     "data": {
      "text/plain": [
       "409.09333293333333"
      ]
     },
     "execution_count": 83,
     "metadata": {},
     "output_type": "execute_result"
    }
   ],
   "source": [
    "test['Open'].mean()"
   ]
  },
  {
   "cell_type": "code",
   "execution_count": 84,
   "id": "cec9da19",
   "metadata": {
    "scrolled": true
   },
   "outputs": [
    {
     "data": {
      "text/html": [
       "<div>\n",
       "<style scoped>\n",
       "    .dataframe tbody tr th:only-of-type {\n",
       "        vertical-align: middle;\n",
       "    }\n",
       "\n",
       "    .dataframe tbody tr th {\n",
       "        vertical-align: top;\n",
       "    }\n",
       "\n",
       "    .dataframe thead th {\n",
       "        text-align: right;\n",
       "    }\n",
       "</style>\n",
       "<table border=\"1\" class=\"dataframe\">\n",
       "  <thead>\n",
       "    <tr style=\"text-align: right;\">\n",
       "      <th></th>\n",
       "      <th>Open</th>\n",
       "      <th>High</th>\n",
       "      <th>Low</th>\n",
       "      <th>Close</th>\n",
       "      <th>Adj Close</th>\n",
       "      <th>Volume</th>\n",
       "    </tr>\n",
       "    <tr>\n",
       "      <th>Date</th>\n",
       "      <th></th>\n",
       "      <th></th>\n",
       "      <th></th>\n",
       "      <th></th>\n",
       "      <th></th>\n",
       "      <th></th>\n",
       "    </tr>\n",
       "  </thead>\n",
       "  <tbody>\n",
       "    <tr>\n",
       "      <th>2023-01-04</th>\n",
       "      <td>394.799988</td>\n",
       "      <td>394.799988</td>\n",
       "      <td>385.0</td>\n",
       "      <td>385.600006</td>\n",
       "      <td>384.401947</td>\n",
       "      <td>16121049</td>\n",
       "    </tr>\n",
       "    <tr>\n",
       "      <th>2023-01-05</th>\n",
       "      <td>387.899994</td>\n",
       "      <td>388.750000</td>\n",
       "      <td>382.5</td>\n",
       "      <td>386.899994</td>\n",
       "      <td>385.697906</td>\n",
       "      <td>10443908</td>\n",
       "    </tr>\n",
       "    <tr>\n",
       "      <th>2023-01-06</th>\n",
       "      <td>386.100006</td>\n",
       "      <td>388.399994</td>\n",
       "      <td>381.0</td>\n",
       "      <td>382.000000</td>\n",
       "      <td>380.813110</td>\n",
       "      <td>8715469</td>\n",
       "    </tr>\n",
       "    <tr>\n",
       "      <th>2023-01-09</th>\n",
       "      <td>386.350006</td>\n",
       "      <td>392.700012</td>\n",
       "      <td>385.0</td>\n",
       "      <td>389.450012</td>\n",
       "      <td>388.239990</td>\n",
       "      <td>14693099</td>\n",
       "    </tr>\n",
       "    <tr>\n",
       "      <th>2023-01-10</th>\n",
       "      <td>400.000000</td>\n",
       "      <td>417.750000</td>\n",
       "      <td>400.0</td>\n",
       "      <td>412.899994</td>\n",
       "      <td>411.617096</td>\n",
       "      <td>54021379</td>\n",
       "    </tr>\n",
       "  </tbody>\n",
       "</table>\n",
       "</div>"
      ],
      "text/plain": [
       "                  Open        High    Low       Close   Adj Close    Volume\n",
       "Date                                                                       \n",
       "2023-01-04  394.799988  394.799988  385.0  385.600006  384.401947  16121049\n",
       "2023-01-05  387.899994  388.750000  382.5  386.899994  385.697906  10443908\n",
       "2023-01-06  386.100006  388.399994  381.0  382.000000  380.813110   8715469\n",
       "2023-01-09  386.350006  392.700012  385.0  389.450012  388.239990  14693099\n",
       "2023-01-10  400.000000  417.750000  400.0  412.899994  411.617096  54021379"
      ]
     },
     "execution_count": 84,
     "metadata": {},
     "output_type": "execute_result"
    }
   ],
   "source": [
    "model2=ARIMA(df[ \"Open\" ],order=(1,0,5))\n",
    "model2=model2.fit()\n",
    "df.tail()"
   ]
  },
  {
   "cell_type": "code",
   "execution_count": 86,
   "id": "fa13dfbc",
   "metadata": {},
   "outputs": [
    {
     "name": "stdout",
     "output_type": "stream",
     "text": [
      "2023-01-10    401.185964\n",
      "2023-01-11    401.508641\n",
      "2023-01-12    400.851053\n",
      "2023-01-13    401.984540\n",
      "2023-01-14    403.827891\n",
      "2023-01-15    404.828223\n",
      "2023-01-16    405.800806\n",
      "2023-01-17    406.746410\n",
      "2023-01-18    407.665782\n",
      "2023-01-19    408.559651\n",
      "2023-01-20    409.428723\n",
      "2023-01-21    410.273687\n",
      "2023-01-22    411.095212\n",
      "2023-01-23    411.893947\n",
      "2023-01-24    412.670526\n",
      "2023-01-25    413.425561\n",
      "2023-01-26    414.159652\n",
      "2023-01-27    414.873379\n",
      "2023-01-28    415.567308\n",
      "2023-01-29    416.241986\n",
      "2023-01-30    416.897949\n",
      "2023-01-31    417.535715\n",
      "2023-02-01    418.155789\n",
      "2023-02-02    418.758662\n",
      "2023-02-03    419.344812\n",
      "2023-02-04    419.914701\n",
      "2023-02-05    420.468782\n",
      "2023-02-06    421.007492\n",
      "2023-02-07    421.531259\n",
      "2023-02-08    422.040496\n",
      "2023-02-09    422.535606\n",
      "2023-02-10    423.016983\n",
      "Freq: D, Name: predicted_mean, dtype: float64\n"
     ]
    }
   ],
   "source": [
    "index_future_dates=pd.date_range(start=\"2023-01-10\",end=\"2023-02-10\")\n",
    "#print (index future dates)\n",
    "\n",
    "pred=model2.predict(start=len(df),end=len(df)+31,typs=\"levels\")\n",
    "pred.index=index_future_dates\n",
    "print(pred)"
   ]
  },
  {
   "cell_type": "code",
   "execution_count": 87,
   "id": "2339aaea",
   "metadata": {},
   "outputs": [
    {
     "data": {
      "text/plain": [
       "<AxesSubplot:>"
      ]
     },
     "execution_count": 87,
     "metadata": {},
     "output_type": "execute_result"
    },
    {
     "data": {
      "image/png": "[encoded data removed]",
      "text/plain": [
       "<Figure size 1200x500 with 1 Axes>"
      ]
     },
     "metadata": {},
     "output_type": "display_data"
    }
   ],
   "source": [
    "pred.plot(figsize=(12,5),legend=True)"
   ]
  },
  {
   "cell_type": "code",
   "execution_count": null,
   "id": "ab789d2e",
   "metadata": {},
   "outputs": [],
   "source": []
  }
 ],
 "metadata": {
  "kernelspec": {
   "display_name": "Python 3 (ipykernel)",
   "language": "python",
   "name": "python3"
  },
  "language_info": {
   "codemirror_mode": {
    "name": "ipython",
    "version": 3
   },
   "file_extension": ".py",
   "mimetype": "text/x-python",
   "name": "python",
   "nbconvert_exporter": "python",
   "pygments_lexer": "ipython3",
   "version": "3.9.13"
  }
 },
 "nbformat": 4,
 "nbformat_minor": 5
}
